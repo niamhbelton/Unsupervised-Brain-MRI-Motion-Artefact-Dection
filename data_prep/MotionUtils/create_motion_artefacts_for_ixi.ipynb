{
 "cells": [
  {
   "cell_type": "code",
   "execution_count": 7,
   "id": "f6370277",
   "metadata": {},
   "outputs": [],
   "source": [
    "import nibabel as nib\n",
    "import os\n",
    "import motion_sim \n",
    "import numpy as np"
   ]
  },
  {
   "cell_type": "code",
   "execution_count": 2,
   "id": "77dbd8be",
   "metadata": {},
   "outputs": [],
   "source": [
    "ms_layer = motion_sim.MotionSimLayer()\n",
    "\n",
    "\n",
    "data_path = ''\n",
    "output_dir_anom = \"./anom/\"\n",
    "output_dir_norm = \"./normal/\"\n",
    "os.mkdir(output_dir_anom)\n",
    "os.mkdir(output_dir_norm)\n",
    "\n",
    "files=os.listdir(data_path)\n",
    "for file in files:\n",
    "    image=nib.load(data_path + file)\n",
    "    image = np.asarray(image.get_fdata()).T\n",
    "    nib.save(nib.Nifti1Image(image, affine=np.eye(4)), output_dir_norm + file)\n",
    "    \n",
    "\n",
    "    output = ms_layer.layer_op(image)\n",
    "    nib.save(nib.Nifti1Image(output, affine=np.eye(4)), output_dir_anom + file )"
   ]
  },
  {
   "cell_type": "code",
   "execution_count": null,
   "id": "1a5764e9",
   "metadata": {},
   "outputs": [],
   "source": []
  }
 ],
 "metadata": {
  "kernelspec": {
   "display_name": "Python 3 (ipykernel)",
   "language": "python",
   "name": "python3"
  },
  "language_info": {
   "codemirror_mode": {
    "name": "ipython",
    "version": 3
   },
   "file_extension": ".py",
   "mimetype": "text/x-python",
   "name": "python",
   "nbconvert_exporter": "python",
   "pygments_lexer": "ipython3",
   "version": "3.9.13"
  }
 },
 "nbformat": 4,
 "nbformat_minor": 5
}
